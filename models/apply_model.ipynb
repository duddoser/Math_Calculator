{
 "nbformat": 4,
 "nbformat_minor": 0,
 "metadata": {
  "colab": {
   "provenance": []
  },
  "kernelspec": {
   "name": "python3",
   "display_name": "Python 3"
  },
  "language_info": {
   "name": "python"
  }
 },
 "cells": [
  {
   "cell_type": "code",
   "execution_count": 1,
   "metadata": {
    "colab": {
     "base_uri": "https://localhost:8080/"
    },
    "id": "n_M6eYx_zYDi",
    "outputId": "37046275-d55a-4b7c-d459-553529c0e8a6",
    "pycharm": {
     "name": "#%%\n"
    }
   },
   "outputs": [
    {
     "name": "stdout",
     "output_type": "stream",
     "text": [
      "Requirement already satisfied: detecto in c:\\users\\elizaveta\\anaconda3\\lib\\site-packages (1.2.2)\n",
      "Requirement already satisfied: torch in c:\\users\\elizaveta\\anaconda3\\lib\\site-packages (from detecto) (2.0.1)\n",
      "Requirement already satisfied: opencv-python in c:\\users\\elizaveta\\anaconda3\\lib\\site-packages (from detecto) (4.7.0.72)\n",
      "Requirement already satisfied: torchvision in c:\\users\\elizaveta\\anaconda3\\lib\\site-packages (from detecto) (0.15.2)\n",
      "Requirement already satisfied: pandas in c:\\users\\elizaveta\\anaconda3\\lib\\site-packages (from detecto) (1.2.4)\n",
      "Requirement already satisfied: tqdm in c:\\users\\elizaveta\\anaconda3\\lib\\site-packages (from detecto) (4.59.0)\n",
      "Requirement already satisfied: matplotlib in c:\\users\\elizaveta\\anaconda3\\lib\\site-packages (from detecto) (3.3.4)\n",
      "Requirement already satisfied: kiwisolver>=1.0.1 in c:\\users\\elizaveta\\anaconda3\\lib\\site-packages (from matplotlib->detecto) (1.3.1)\n",
      "Requirement already satisfied: cycler>=0.10 in c:\\users\\elizaveta\\anaconda3\\lib\\site-packages (from matplotlib->detecto) (0.10.0)\n",
      "Requirement already satisfied: pillow>=6.2.0 in c:\\users\\elizaveta\\anaconda3\\lib\\site-packages (from matplotlib->detecto) (8.2.0)\n",
      "Requirement already satisfied: python-dateutil>=2.1 in c:\\users\\elizaveta\\anaconda3\\lib\\site-packages (from matplotlib->detecto) (2.8.1)\n",
      "Requirement already satisfied: pyparsing!=2.0.4,!=2.1.2,!=2.1.6,>=2.0.3 in c:\\users\\elizaveta\\anaconda3\\lib\\site-packages (from matplotlib->detecto) (2.4.7)\n",
      "Requirement already satisfied: numpy>=1.15 in c:\\users\\elizaveta\\anaconda3\\lib\\site-packages (from matplotlib->detecto) (1.20.1)\n",
      "Requirement already satisfied: six in c:\\users\\elizaveta\\anaconda3\\lib\\site-packages (from cycler>=0.10->matplotlib->detecto) (1.15.0)\n",
      "Requirement already satisfied: pytz>=2017.3 in c:\\users\\elizaveta\\anaconda3\\lib\\site-packages (from pandas->detecto) (2021.1)\n",
      "Requirement already satisfied: jinja2 in c:\\users\\elizaveta\\anaconda3\\lib\\site-packages (from torch->detecto) (2.11.3)\n",
      "Requirement already satisfied: filelock in c:\\users\\elizaveta\\anaconda3\\lib\\site-packages (from torch->detecto) (3.0.12)\n",
      "Requirement already satisfied: typing-extensions in c:\\users\\elizaveta\\anaconda3\\lib\\site-packages (from torch->detecto) (3.7.4.3)\n",
      "Requirement already satisfied: sympy in c:\\users\\elizaveta\\anaconda3\\lib\\site-packages (from torch->detecto) (1.8)\n",
      "Requirement already satisfied: networkx in c:\\users\\elizaveta\\anaconda3\\lib\\site-packages (from torch->detecto) (2.5)\n",
      "Requirement already satisfied: MarkupSafe>=0.23 in c:\\users\\elizaveta\\anaconda3\\lib\\site-packages (from jinja2->torch->detecto) (1.1.1)\n",
      "Requirement already satisfied: decorator>=4.3.0 in c:\\users\\elizaveta\\anaconda3\\lib\\site-packages (from networkx->torch->detecto) (5.0.6)\n",
      "Requirement already satisfied: mpmath>=0.19 in c:\\users\\elizaveta\\anaconda3\\lib\\site-packages (from sympy->torch->detecto) (1.2.1)\n",
      "Requirement already satisfied: requests in c:\\users\\elizaveta\\anaconda3\\lib\\site-packages (from torchvision->detecto) (2.25.1)\n",
      "Requirement already satisfied: urllib3<1.27,>=1.21.1 in c:\\users\\elizaveta\\anaconda3\\lib\\site-packages (from requests->torchvision->detecto) (1.26.4)\n",
      "Requirement already satisfied: chardet<5,>=3.0.2 in c:\\users\\elizaveta\\anaconda3\\lib\\site-packages (from requests->torchvision->detecto) (4.0.0)\n",
      "Requirement already satisfied: idna<3,>=2.5 in c:\\users\\elizaveta\\anaconda3\\lib\\site-packages (from requests->torchvision->detecto) (2.10)\n",
      "Requirement already satisfied: certifi>=2017.4.17 in c:\\users\\elizaveta\\anaconda3\\lib\\site-packages (from requests->torchvision->detecto) (2020.12.5)\n"
     ]
    }
   ],
   "source": [
    "!pip install detecto"
   ]
  },
  {
   "cell_type": "code",
   "source": [
    "import torch\n",
    "import numpy as np\n",
    "\n",
    "from detecto import core, utils"
   ],
   "metadata": {
    "id": "E4MmXuzHzqgo",
    "pycharm": {
     "name": "#%%\n"
    }
   },
   "execution_count": 4,
   "outputs": []
  },
  {
   "cell_type": "code",
   "source": [
    "# define the labels and load the trained model\n",
    "labels = ['+', '-', '/', '*', '0', '1', '2', '3', '4', '5', '6', '7', '8', '9']\n",
    "model = core.Model.load('trained_model.pth', labels)"
   ],
   "metadata": {
    "id": "X6Vml7lAzzFa",
    "pycharm": {
     "name": "#%%\n"
    }
   },
   "execution_count": 7,
   "outputs": []
  },
  {
   "cell_type": "code",
   "source": [
    "# read image\n",
    "image = utils.read_image('JPEG_DETECTION_IMAGE.jpg')\n",
    "predictions = model.predict(image)\n",
    "\n",
    "labels, boxes, scores = predictions"
   ],
   "metadata": {
    "id": "BdQlU-A-1FxU",
    "pycharm": {
     "name": "#%%\n"
    }
   },
   "execution_count": 8,
   "outputs": []
  },
  {
   "cell_type": "code",
   "source": [
    "# function checks if two rectangular are overlapped\n",
    "def do_overlap(rect1, rect2):\n",
    "    # If x-axis are overlapped\n",
    "    if rect1[0] < rect2[0] < rect1[2] or rect1[0] < rect2[2] < rect1[2] or (rect2[0] < rect1[0] and rect1[2] < rect2[2]):\n",
    "      # If y-axis are overlapped\n",
    "        if rect1[1] < rect2[1] < rect1[3] or rect1[1] < rect2[3] < rect1[3] or (rect2[1] < rect1[1] and rect1[3] < rect2[3]):\n",
    "          return True\n",
    "    return False\n",
    "\n",
    "\n",
    "# get updated tensors of boxes and labels\n",
    "def remove_intersecting_boxes(boxes, labels):\n",
    "  upd_boxes, upd_labels = torch.tensor([]), []\n",
    "  upd_num = 0\n",
    "  for i in range(len(boxes)):\n",
    "    intersection = False\n",
    "    for j in range(upd_num):\n",
    "      if (do_overlap(upd_boxes[j], boxes[i])):\n",
    "        intersection = True\n",
    "        break\n",
    "    if not intersection:\n",
    "      upd_boxes = torch.cat((upd_boxes, boxes[i].view(1, -1)))\n",
    "      upd_labels.append(labels[i])\n",
    "      upd_num += 1\n",
    "  return (upd_boxes, upd_labels)"
   ],
   "metadata": {
    "id": "acC7QBGI1CUn",
    "pycharm": {
     "name": "#%%\n"
    }
   },
   "execution_count": 9,
   "outputs": []
  },
  {
   "cell_type": "code",
   "source": [
    "# updated boxes and labels\n",
    "ub, ul = remove_intersecting_boxes(boxes, labels)"
   ],
   "metadata": {
    "colab": {
     "base_uri": "https://localhost:8080/"
    },
    "id": "vYoX7yU33zQ6",
    "outputId": "bf1b2e55-98c4-48b1-a53e-3029fc4e332e",
    "pycharm": {
     "name": "#%%\n"
    }
   },
   "execution_count": 9,
   "outputs": []
  },
  {
   "cell_type": "code",
   "source": [
    "# sort in order of x-axis value\n",
    "x_axis = np.array([axis[0] for axis in ub])\n",
    "ind_pos = np.argsort(x_axis)\n",
    "sort_lab = ul[ind_pos]\n",
    "\n",
    "# implement the final string\n",
    "final_str = ''\n",
    "for i in range(len(sort_lab)):\n",
    "  final_str += sort_lab[i]"
   ],
   "metadata": {
    "id": "me8ub0ht4Ax1",
    "pycharm": {
     "name": "#%%\n"
    }
   },
   "execution_count": 19,
   "outputs": []
  },
  {
   "cell_type": "code",
   "source": [
    "# write what we detect on image\n",
    "file = open(\"result_str\", \"w\")\n",
    "file.write(final_str)\n",
    "file.close()"
   ],
   "metadata": {
    "id": "6sRodXu946TE",
    "pycharm": {
     "name": "#%%\n"
    }
   },
   "execution_count": 19,
   "outputs": []
  },
  {
   "cell_type": "code",
   "source": [],
   "metadata": {
    "id": "_cOyRM8I2YAY",
    "pycharm": {
     "name": "#%%\n"
    }
   },
   "execution_count": null,
   "outputs": []
  }
 ]
}